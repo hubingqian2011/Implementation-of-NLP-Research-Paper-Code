{
 "cells": [
  {
   "cell_type": "code",
   "execution_count": 11,
   "metadata": {},
   "outputs": [],
   "source": [
    "training_data = [\n",
    "    ['Green', 3, 'Apple'],\n",
    "    ['Yellow', 3, 'Apple'],\n",
    "    ['Red', 1, 'Grape'],\n",
    "    ['Red', 1, 'Grape'],\n",
    "    ['Yellow', 3, 'Lemon'],\n",
    "]"
   ]
  },
  {
   "cell_type": "code",
   "execution_count": null,
   "metadata": {},
   "outputs": [],
   "source": [
    "def build_tree(training_data):\n",
    "    #[\n",
    "    #['Green', 3, 'Apple'],\n",
    "    #['Yellow', 3, 'Apple'],\n",
    "    #['Red', 1, 'Grape'],\n",
    "    #['Red', 1, 'Grape'],\n",
    "    #['Yellow', 3, 'Lemon'],\n",
    "    #]\n",
    "    gain, question = find_best_split(training_data)\n",
    "    #gain : 0.37333333333333324\n",
    "    #question: Is diameter >= 3?\n",
    "    \n",
    "    true_rows, false_rows = partition(rows, question)\n",
    "    # true_rows： [['Green', 3, 'Apple'], ['Yellow', 3, 'Apple'], ['Yellow', 3, 'Lemon']]\n",
    "    # false_rows： [['Red', 1, 'Grape'], ['Red', 1, 'Grape']]\n",
    "    true_branch = build_tree(true_rows)\n",
    "\n",
    "    false_branch = build_tree(false_rows)\n",
    "\n",
    "    return Decision_Node(question, true_branch, false_branch)"
   ]
  },
  {
   "cell_type": "code",
   "execution_count": 13,
   "metadata": {},
   "outputs": [],
   "source": [
    "def build_tree(training_data):# true_branch\n",
    "    #[\n",
    "    # ['Green', 3, 'Apple'], \n",
    "    # ['Yellow', 3, 'Apple'], \n",
    "    # ['Yellow', 3, 'Lemon']\n",
    "    #]\n",
    "    gain, question = find_best_split(training_data)\n",
    "    # 0.11111111111111116\n",
    "    # Is color == Yellow?\n",
    "    \n",
    "    true_rows, false_rows = partition(rows, question)\n",
    "    #true_rows ：[['Yellow', 3, 'Apple'], ['Yellow', 3, 'Lemon']]\n",
    "    #false_rows ： [['Green', 3, 'Apple']]\n",
    "    \n",
    "    true_branch = build_tree(true_rows)\n",
    "\n",
    "    false_branch = build_tree(false_rows)\n",
    "\n",
    "    return Decision_Node(question, true_branch, false_branch)"
   ]
  },
  {
   "cell_type": "code",
   "execution_count": null,
   "metadata": {},
   "outputs": [],
   "source": [
    "def build_tree(training_data):# true_branch\n",
    "    #[\n",
    "    # ['Yellow', 3, 'Apple'],\n",
    "    # ['Yellow', 3, 'Lemon']\n",
    "    #]\n",
    "    gain, question = find_best_split(training_data)\n",
    "    # 0.11111111111111116\n",
    "    # Is color == Yellow?\n",
    "    if gain == 0:\n",
    "        return Leaf(rows)\n",
    "    \n",
    "    true_rows, false_rows = partition(rows, question)\n",
    "    # [['Green', 3, 'Apple'], ['Yellow', 3, 'Apple'], ['Yellow', 3, 'Lemon']]\n",
    "    # [['Red', 1, 'Grape'], ['Red', 1, 'Grape']]\n",
    "    true_branch = build_tree(true_rows)\n",
    "\n",
    "    false_branch = build_tree(false_rows)\n",
    "\n",
    "    return Decision_Node(question, true_branch, false_branch)"
   ]
  },
  {
   "cell_type": "code",
   "execution_count": null,
   "metadata": {},
   "outputs": [],
   "source": []
  },
  {
   "cell_type": "code",
   "execution_count": null,
   "metadata": {},
   "outputs": [],
   "source": []
  },
  {
   "cell_type": "code",
   "execution_count": null,
   "metadata": {},
   "outputs": [],
   "source": []
  },
  {
   "cell_type": "code",
   "execution_count": null,
   "metadata": {},
   "outputs": [],
   "source": []
  },
  {
   "cell_type": "code",
   "execution_count": null,
   "metadata": {},
   "outputs": [],
   "source": []
  },
  {
   "cell_type": "code",
   "execution_count": null,
   "metadata": {},
   "outputs": [],
   "source": []
  },
  {
   "cell_type": "code",
   "execution_count": null,
   "metadata": {},
   "outputs": [],
   "source": []
  },
  {
   "cell_type": "code",
   "execution_count": 1,
   "metadata": {},
   "outputs": [],
   "source": [
    "menu = {\n",
    "    '北京': {\n",
    "        '海淀': {\n",
    "            '五道口': {\n",
    "                'soho': {},\n",
    "                '网易': {},\n",
    "                'google': {}\n",
    "            },\n",
    "            '中关村': {\n",
    "                '爱奇艺': {},\n",
    "                '汽车之家': {},\n",
    "                'youku': {},\n",
    "            },\n",
    "            '上地': {\n",
    "                '百度': {},\n",
    "            },\n",
    "        },\n",
    "        '昌平': {\n",
    "            '沙河': {\n",
    "                '老男孩': {},\n",
    "                '北航': {},\n",
    "            },\n",
    "            '天通苑': {},\n",
    "            '回龙观': {},\n",
    "        },\n",
    "        '朝阳': {},\n",
    "        '东城': {},\n",
    "    },\n",
    "    '上海': {\n",
    "        '闵行': {\n",
    "            \"人民广场\": {\n",
    "                '炸鸡店': {}\n",
    "            }\n",
    "        },\n",
    "        '闸北': {\n",
    "            '火车战': {\n",
    "                '携程': {}\n",
    "            }\n",
    "        },\n",
    "        '浦东': {},\n",
    "    },\n",
    "    '山东': {},\n",
    "}"
   ]
  },
  {
   "cell_type": "code",
   "execution_count": 2,
   "metadata": {},
   "outputs": [
    {
     "data": {
      "text/plain": [
       "{'北京': {'海淀': {'五道口': {'soho': {}, '网易': {}, 'google': {}},\n",
       "   '中关村': {'爱奇艺': {}, '汽车之家': {}, 'youku': {}},\n",
       "   '上地': {'百度': {}}},\n",
       "  '昌平': {'沙河': {'老男孩': {}, '北航': {}}, '天通苑': {}, '回龙观': {}},\n",
       "  '朝阳': {},\n",
       "  '东城': {}},\n",
       " '上海': {'闵行': {'人民广场': {'炸鸡店': {}}}, '闸北': {'火车战': {'携程': {}}}, '浦东': {}},\n",
       " '山东': {}}"
      ]
     },
     "execution_count": 2,
     "metadata": {},
     "output_type": "execute_result"
    }
   ],
   "source": [
    "menu"
   ]
  },
  {
   "cell_type": "code",
   "execution_count": 4,
   "metadata": {},
   "outputs": [
    {
     "data": {
      "text/plain": [
       "{'五道口': {'soho': {}, '网易': {}, 'google': {}},\n",
       " '中关村': {'爱奇艺': {}, '汽车之家': {}, 'youku': {}},\n",
       " '上地': {'百度': {}}}"
      ]
     },
     "execution_count": 4,
     "metadata": {},
     "output_type": "execute_result"
    }
   ],
   "source": [
    "menu['北京']['海淀']"
   ]
  },
  {
   "cell_type": "code",
   "execution_count": 9,
   "metadata": {},
   "outputs": [
    {
     "data": {
      "text/plain": [
       "2"
      ]
     },
     "execution_count": 9,
     "metadata": {},
     "output_type": "execute_result"
    }
   ],
   "source": [
    "l=[3,2]\n",
    "l.pop()"
   ]
  },
  {
   "cell_type": "code",
   "execution_count": null,
   "metadata": {},
   "outputs": [],
   "source": []
  },
  {
   "cell_type": "code",
   "execution_count": 8,
   "metadata": {},
   "outputs": [
    {
     "ename": "IndexError",
     "evalue": "pop from empty list",
     "output_type": "error",
     "traceback": [
      "\u001b[1;31m---------------------------------------------------------------------------\u001b[0m",
      "\u001b[1;31mIndexError\u001b[0m                                Traceback (most recent call last)",
      "\u001b[1;32m<ipython-input-8-33a5ac1f2384>\u001b[0m in \u001b[0;36m<module>\u001b[1;34m\u001b[0m\n\u001b[1;32m----> 1\u001b[1;33m \u001b[0ml\u001b[0m\u001b[1;33m.\u001b[0m\u001b[0mpop\u001b[0m\u001b[1;33m(\u001b[0m\u001b[1;33m)\u001b[0m\u001b[1;33m\u001b[0m\u001b[1;33m\u001b[0m\u001b[0m\n\u001b[0m",
      "\u001b[1;31mIndexError\u001b[0m: pop from empty list"
     ]
    }
   ],
   "source": []
  },
  {
   "cell_type": "code",
   "execution_count": null,
   "metadata": {},
   "outputs": [],
   "source": []
  }
 ],
 "metadata": {
  "kernelspec": {
   "display_name": "Python 3",
   "language": "python",
   "name": "python3"
  },
  "language_info": {
   "codemirror_mode": {
    "name": "ipython",
    "version": 3
   },
   "file_extension": ".py",
   "mimetype": "text/x-python",
   "name": "python",
   "nbconvert_exporter": "python",
   "pygments_lexer": "ipython3",
   "version": "3.8.3"
  }
 },
 "nbformat": 4,
 "nbformat_minor": 4
}
